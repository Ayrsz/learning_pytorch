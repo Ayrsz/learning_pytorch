{
  "nbformat": 4,
  "nbformat_minor": 0,
  "metadata": {
    "colab": {
      "provenance": [],
      "collapsed_sections": [
        "6ttYOj_a_wmA"
      ]
    },
    "kernelspec": {
      "name": "python3",
      "display_name": "Python 3"
    },
    "language_info": {
      "name": "python"
    }
  },
  "cells": [
    {
      "cell_type": "code",
      "execution_count": null,
      "metadata": {
        "id": "f3nKOKlkl_4H"
      },
      "outputs": [],
      "source": [
        "import torch\n",
        "import torch.nn as nn\n",
        "import torch.nn.functional as F\n",
        "from torch.utils.data import Dataset, DataLoader"
      ]
    },
    {
      "cell_type": "code",
      "source": [
        "import numpy as np\n",
        "from matplotlib import pyplot as plt"
      ],
      "metadata": {
        "id": "rIQfvAWWw2t9"
      },
      "execution_count": null,
      "outputs": []
    },
    {
      "cell_type": "markdown",
      "source": [
        "#Implementando rede neural de um percepton"
      ],
      "metadata": {
        "id": "MxxD5y6tyaFG"
      }
    },
    {
      "cell_type": "markdown",
      "source": [
        "# Percepton"
      ],
      "metadata": {
        "id": "gHyDlrg9-9hC"
      }
    },
    {
      "cell_type": "markdown",
      "source": [
        "![image.png](data:image/png;base64,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)"
      ],
      "metadata": {
        "id": "z982ruAlyU14"
      }
    },
    {
      "cell_type": "code",
      "source": [
        "class neuralNetwork(nn.Module):\n",
        "  def __init__(self):\n",
        "    #Inicia a rede neural, como é uma subclasse, vai rodar o inicializador da classe \"nn.Module\"\n",
        "    super().__init__()\n",
        "\n",
        "    #Inicializa pesos e bias já pre-treinados para o exemplo!\n",
        "    self.layers = nn.Sequential(\n",
        "        nn.Linear(1, 1),\n",
        "        nn.ReLU(),\n",
        "    )\n",
        "\n",
        "\n",
        "    #Método que faz a propagação de informação da rede\n",
        "  def forward(self, inputValue):\n",
        "    return self.layers(inputValue)\n"
      ],
      "metadata": {
        "id": "Y2RZ81jxxUTf"
      },
      "execution_count": null,
      "outputs": []
    },
    {
      "cell_type": "code",
      "source": [
        "model = neuralNetwork()\n",
        "\n",
        "entrada = torch.tensor([1], dtype = torch.float32)\n",
        "saida = model.forward(entrada)\n",
        "print(saida)"
      ],
      "metadata": {
        "colab": {
          "base_uri": "https://localhost:8080/"
        },
        "id": "Rf9Zw1XnzrAC",
        "outputId": "46cba948-726e-47e9-bb4a-a143342e5cbc"
      },
      "execution_count": null,
      "outputs": [
        {
          "output_type": "stream",
          "name": "stdout",
          "text": [
            "tensor([0.], grad_fn=<ReluBackward0>)\n"
          ]
        }
      ]
    },
    {
      "cell_type": "markdown",
      "source": [
        "# Operações com tensores"
      ],
      "metadata": {
        "id": "UOCs8mktGrbv"
      }
    },
    {
      "cell_type": "code",
      "source": [
        "a = torch.tensor([1,2,3])\n",
        "b = torch.tensor([3,2,4])\n",
        "c = a + b\n",
        "d = a * b\n",
        "e = a - b\n",
        "print(c)\n",
        "print(d)\n",
        "print(e)"
      ],
      "metadata": {
        "colab": {
          "base_uri": "https://localhost:8080/"
        },
        "id": "KT4twKw9GwKo",
        "outputId": "bae5f859-8e3b-45f2-91a9-093248fb92cd"
      },
      "execution_count": null,
      "outputs": [
        {
          "output_type": "stream",
          "name": "stdout",
          "text": [
            "tensor([4, 4, 7])\n",
            "tensor([ 3,  4, 12])\n",
            "tensor([-2,  0, -1])\n"
          ]
        }
      ]
    },
    {
      "cell_type": "code",
      "source": [
        "tensorFloat = torch.tensor([1,2], dtype = torch.float32)\n",
        "torch.view_as_complex(tensorFloat)"
      ],
      "metadata": {
        "colab": {
          "base_uri": "https://localhost:8080/"
        },
        "id": "xJ2KAebNIB51",
        "outputId": "f7194903-49af-4dd1-a123-2decbba4abb7"
      },
      "execution_count": null,
      "outputs": [
        {
          "output_type": "execute_result",
          "data": {
            "text/plain": [
              "tensor(1.+2.j)"
            ]
          },
          "metadata": {},
          "execution_count": 6
        }
      ]
    },
    {
      "cell_type": "code",
      "source": [
        "tensorMultDimension = torch.tensor([[[1,2],[1,3]], [[3,6],[2,9]]])\n",
        "tensorLinearizado = nn.Flatten(tensorMultDimension)\n",
        "print(tensorMultDimension)"
      ],
      "metadata": {
        "colab": {
          "base_uri": "https://localhost:8080/"
        },
        "id": "GrcFVU8fRfem",
        "outputId": "cd56b2d6-8b98-4674-c997-a4909dbb7e52"
      },
      "execution_count": null,
      "outputs": [
        {
          "output_type": "stream",
          "name": "stdout",
          "text": [
            "tensor([[[1, 2],\n",
            "         [1, 3]],\n",
            "\n",
            "        [[3, 6],\n",
            "         [2, 9]]])\n"
          ]
        }
      ]
    },
    {
      "cell_type": "markdown",
      "source": [
        "# DataSet e DataLoader"
      ],
      "metadata": {
        "id": "-BYvzu9HNynx"
      }
    },
    {
      "cell_type": "code",
      "source": [
        "class MyData(Dataset):\n",
        "  def __init__(self, qtd):\n",
        "    numeros = torch.randint(low = 0, high =100000, size = (qtd, ))\n",
        "    self.data = [(i, 2*i) for i in numeros]\n",
        "\n",
        "  def __len__(self):\n",
        "    return len(self.data)\n",
        "\n",
        "  def __getitem__(self, idx):\n",
        "    return self.data[idx]\n",
        "\n",
        "\n",
        "DataTrain = MyData(1000)\n",
        "#DataTest = MyData(10)"
      ],
      "metadata": {
        "id": "OGtPDfwgN_bC"
      },
      "execution_count": null,
      "outputs": []
    },
    {
      "cell_type": "code",
      "source": [
        "DataLoaderTrain = DataLoader(DataTrain, batch_size = 1, shuffle = True)\n",
        "#DataLoaderTest = DataLoader(DataTest, batch_size = 1, shuffle = True)\n"
      ],
      "metadata": {
        "id": "OcCyduqoSIFe"
      },
      "execution_count": null,
      "outputs": []
    },
    {
      "cell_type": "markdown",
      "source": [
        "# Modelo\n"
      ],
      "metadata": {
        "id": "k9LO3Y4XY8Th"
      }
    },
    {
      "cell_type": "code",
      "source": [
        "class classificadorXinfrim(nn.Module):\n",
        "  def __init__(self):\n",
        "    super().__init__()\n",
        "\n",
        "    self.layers = nn.Sequential(\n",
        "        nn.Linear(1, 1),\n",
        "        nn.ReLU(),\n",
        "        nn.Linear(1, 1)\n",
        "    )\n",
        "\n",
        "  def forward(self, inputValues):\n",
        "    return self.layers(inputValues)"
      ],
      "metadata": {
        "id": "8i4U2YdRZ69o"
      },
      "execution_count": null,
      "outputs": []
    },
    {
      "cell_type": "code",
      "source": [
        "device = torch.device(\"cuda\" if torch.cuda.is_available() else \"cpu\")\n",
        "model = classificadorXinfrim().to(device)"
      ],
      "metadata": {
        "id": "bHYEP2DUqjAD"
      },
      "execution_count": null,
      "outputs": []
    },
    {
      "cell_type": "code",
      "source": [
        "LossModel = torch.nn.MSELoss()\n",
        "Optimizer = torch.optim.SGD(model.parameters(), lr = 0.01)"
      ],
      "metadata": {
        "id": "Z8P66PT6shaJ"
      },
      "execution_count": null,
      "outputs": []
    },
    {
      "cell_type": "markdown",
      "source": [
        "# Treinamento\n"
      ],
      "metadata": {
        "id": "_100dX2KZH1r"
      }
    },
    {
      "cell_type": "code",
      "source": [
        "def train(model, optimizer, lossFunc, dataload):\n",
        "  model.train()\n",
        "  epochs = 10\n",
        "  for i in range(epochs):\n",
        "    epochLoss = 0\n",
        "    for entry, exit in DataLoaderTrain:\n",
        "      entry = entry.float().to(device)\n",
        "      exit = exit.float().to(device)\n",
        "\n",
        "      prevision = model.forward(entry)\n",
        "      loss = lossFunc(prevision, exit)\n",
        "\n",
        "      optimizer.zero_grad()\n",
        "      loss.backward()\n",
        "      optimizer.step()\n",
        "      optimizer.zero_grad()\n",
        "\n",
        "    print(f\"Perda na época {i+1}:{ epochLoss}\")\n",
        "\n",
        "train(model, Optimizer, LossModel, DataLoaderTrain)\n"
      ],
      "metadata": {
        "id": "X3jzngB7sya0",
        "colab": {
          "base_uri": "https://localhost:8080/"
        },
        "outputId": "5185b492-46c1-4711-86b7-701d58b4ed2b"
      },
      "execution_count": null,
      "outputs": [
        {
          "output_type": "stream",
          "name": "stdout",
          "text": [
            "Perda na época 1:0\n",
            "Perda na época 2:0\n",
            "Perda na época 3:0\n",
            "Perda na época 4:0\n",
            "Perda na época 5:0\n",
            "Perda na época 6:0\n",
            "Perda na época 7:0\n",
            "Perda na época 8:0\n",
            "Perda na época 9:0\n",
            "Perda na época 10:0\n"
          ]
        }
      ]
    },
    {
      "cell_type": "code",
      "source": [
        "entrada = torch.tensor([1], dtype = torch.float32)\n",
        "saida = model.forward(entrada)\n",
        "print(saida)"
      ],
      "metadata": {
        "colab": {
          "base_uri": "https://localhost:8080/"
        },
        "id": "j09hfEB0Z_BL",
        "outputId": "5e7c4b08-2f33-4ce2-f75f-4512382d550a"
      },
      "execution_count": null,
      "outputs": [
        {
          "output_type": "stream",
          "name": "stdout",
          "text": [
            "tensor([105261.8906], grad_fn=<ViewBackward0>)\n"
          ]
        }
      ]
    }
  ]
}