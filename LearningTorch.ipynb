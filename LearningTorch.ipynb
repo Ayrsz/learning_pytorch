{
  "nbformat": 4,
  "nbformat_minor": 0,
  "metadata": {
    "colab": {
      "provenance": [],
      "authorship_tag": "ABX9TyMzgaplrB0/i8krsYbInYGC",
      "include_colab_link": true
    },
    "kernelspec": {
      "name": "python3",
      "display_name": "Python 3"
    },
    "language_info": {
      "name": "python"
    }
  },
  "cells": [
    {
      "cell_type": "markdown",
      "metadata": {
        "id": "view-in-github",
        "colab_type": "text"
      },
      "source": [
        "<a href=\"https://colab.research.google.com/github/Ayrsz/learning_pytorch/blob/main/LearningTorch.ipynb\" target=\"_parent\"><img src=\"https://colab.research.google.com/assets/colab-badge.svg\" alt=\"Open In Colab\"/></a>"
      ]
    },
    {
      "cell_type": "code",
      "execution_count": 1,
      "metadata": {
        "id": "f3nKOKlkl_4H"
      },
      "outputs": [],
      "source": [
        "import torch\n",
        "import torch.nn as nn\n",
        "import torch.nn.functional as F\n",
        "from torch.utils.data import Dataset, DataLoader\n",
        "import torchvision\n",
        "import torchvision.transforms as transform\n"
      ]
    },
    {
      "cell_type": "code",
      "source": [
        "import numpy as np\n",
        "from matplotlib import pyplot as plt"
      ],
      "metadata": {
        "id": "rIQfvAWWw2t9"
      },
      "execution_count": 2,
      "outputs": []
    },
    {
      "cell_type": "markdown",
      "source": [
        "## Manipulando Tensores"
      ],
      "metadata": {
        "id": "dOuPVrj_v3Pw"
      }
    },
    {
      "cell_type": "code",
      "source": [
        "#Inicializando tensores vazios\n",
        "vazio = torch.empty((3,4))\n",
        "\n",
        "#Preenche o vetor com valores aleatórios\n",
        "print(vazio)\n",
        "print(type(vazio))\n"
      ],
      "metadata": {
        "colab": {
          "base_uri": "https://localhost:8080/"
        },
        "id": "UUtOTZMpwAHP",
        "outputId": "3c7cc893-a660-4152-9fe1-1246ac815f49"
      },
      "execution_count": 3,
      "outputs": [
        {
          "output_type": "stream",
          "name": "stdout",
          "text": [
            "tensor([[0.0000e+00, 0.0000e+00, 0.0000e+00, 0.0000e+00],\n",
            "        [2.8306e-43, 2.8306e-43, 3.2230e-44, 4.7644e-44],\n",
            "        [0.0000e+00, 0.0000e+00, 1.1351e-43, 0.0000e+00]])\n",
            "<class 'torch.Tensor'>\n"
          ]
        }
      ]
    },
    {
      "cell_type": "markdown",
      "source": [
        "**Criação de tensores básicos**"
      ],
      "metadata": {
        "id": "SMo06DsiyITO"
      }
    },
    {
      "cell_type": "code",
      "source": [
        "ones = torch.ones(3,4)\n",
        "print(ones)\n",
        "\n",
        "zeros = torch.zeros(3,4)\n",
        "print(zeros)\n",
        "\n",
        "#Set da set para números aleatórios na mão, não é necessário\n",
        "torch.manual_seed(20)\n",
        "random = torch.rand(1)\n",
        "print(random)"
      ],
      "metadata": {
        "colab": {
          "base_uri": "https://localhost:8080/"
        },
        "id": "ZTtzUbT5wjEw",
        "outputId": "a35a265d-488c-4442-ab63-f0e7c710df88"
      },
      "execution_count": 4,
      "outputs": [
        {
          "output_type": "stream",
          "name": "stdout",
          "text": [
            "tensor([[1., 1., 1., 1.],\n",
            "        [1., 1., 1., 1.],\n",
            "        [1., 1., 1., 1.]])\n",
            "tensor([[0., 0., 0., 0.],\n",
            "        [0., 0., 0., 0.],\n",
            "        [0., 0., 0., 0.]])\n",
            "tensor([0.5615])\n"
          ]
        }
      ]
    },
    {
      "cell_type": "markdown",
      "source": [
        "**Criação de tensor com mesmo shape de outro**"
      ],
      "metadata": {
        "id": "Ia4H6Hvby9k-"
      }
    },
    {
      "cell_type": "code",
      "source": [
        "print(\"Original:\")\n",
        "x = torch.tensor([[3, 4], [0, 1]])\n",
        "print(x)\n",
        "\n",
        "print(\"One_like:\")\n",
        "one_like = torch.ones_like(x)\n",
        "print(one_like)\n",
        "\n",
        "print(\"Zero_like:\")\n",
        "zero_like = torch.zeros_like(x)\n",
        "print(zero_like)"
      ],
      "metadata": {
        "colab": {
          "base_uri": "https://localhost:8080/"
        },
        "id": "42IOCOErzEOD",
        "outputId": "81cd5bb2-ae66-4a51-f30f-5bf5e73ea7d1"
      },
      "execution_count": 5,
      "outputs": [
        {
          "output_type": "stream",
          "name": "stdout",
          "text": [
            "Original:\n",
            "tensor([[3, 4],\n",
            "        [0, 1]])\n",
            "One_like:\n",
            "tensor([[1, 1],\n",
            "        [1, 1]])\n",
            "Zero_like:\n",
            "tensor([[0, 0],\n",
            "        [0, 0]])\n"
          ]
        }
      ]
    },
    {
      "cell_type": "markdown",
      "source": [
        "**Operações matematicas**"
      ],
      "metadata": {
        "id": "awkmEFZBesVl"
      }
    },
    {
      "cell_type": "code",
      "source": [
        "torch.manual_seed(30)\n",
        "tensor_a = torch.randn(3, 4)\n",
        "sep = 50*'-' + '\\n'\n",
        "print(\" Tensor:\")\n",
        "print(tensor_a)\n",
        "\n",
        "print(sep,\"Função teto:\")\n",
        "print(torch.ceil(tensor_a))\n",
        "\n",
        "print(sep, \"Clip:\")\n",
        "print(torch.clamp(tensor_a, -0.5, 0.5))\n",
        "\n",
        "print(sep, \"Comparação elemento a elemento\")\n",
        "tensor_a_clipado = torch.clamp(tensor_a, -0.5, 0.5)\n",
        "print(torch.eq(tensor_a, tensor_a_clipado))\n",
        "\n",
        "print(sep, \"Maximos e minimos:\")\n",
        "print(\"Retornando um tensor:\")\n",
        "print(torch.max(tensor_a))\n",
        "print(\"Retornando um valor:\")\n",
        "print(torch.max(tensor_a).item())\n",
        "\n",
        "print(sep, \"Elementos unicos:\")\n",
        "print(torch.unique(torch.tensor([[1,1,1,1],[2,2,2,2]]))) #Retorna um vetor dos valores únicos\n"
      ],
      "metadata": {
        "colab": {
          "base_uri": "https://localhost:8080/"
        },
        "id": "61m6ym8ib_LM",
        "outputId": "25fa896f-f08d-4b5d-c78b-0b77fe9098e6"
      },
      "execution_count": 6,
      "outputs": [
        {
          "output_type": "stream",
          "name": "stdout",
          "text": [
            " Tensor:\n",
            "tensor([[ 0.4705,  1.6563,  0.5153, -0.2744],\n",
            "        [-2.2606,  1.2280,  0.7928,  0.6231],\n",
            "        [-2.1520, -0.0252,  0.9949,  0.0494]])\n",
            "--------------------------------------------------\n",
            " Função teto:\n",
            "tensor([[ 1.,  2.,  1., -0.],\n",
            "        [-2.,  2.,  1.,  1.],\n",
            "        [-2., -0.,  1.,  1.]])\n",
            "--------------------------------------------------\n",
            " Clip:\n",
            "tensor([[ 0.4705,  0.5000,  0.5000, -0.2744],\n",
            "        [-0.5000,  0.5000,  0.5000,  0.5000],\n",
            "        [-0.5000, -0.0252,  0.5000,  0.0494]])\n",
            "--------------------------------------------------\n",
            " Comparação elemento a elemento\n",
            "tensor([[ True, False, False,  True],\n",
            "        [False, False, False, False],\n",
            "        [False,  True, False,  True]])\n",
            "--------------------------------------------------\n",
            " Maximos e minimos:\n",
            "Retornando um tensor:\n",
            "tensor(1.6563)\n",
            "Retornando um valor:\n",
            "1.6563351154327393\n",
            "--------------------------------------------------\n",
            " Elementos unicos:\n",
            "tensor([1, 2])\n"
          ]
        }
      ]
    },
    {
      "cell_type": "markdown",
      "source": [
        "**Alterando tensores por funções que fazem referência**"
      ],
      "metadata": {
        "id": "dTRXmRrmev3b"
      }
    },
    {
      "cell_type": "code",
      "source": [
        "fibbonacci = torch.tensor([0, 1, 1, 2, 3, 5, 8, 13], dtype= torch.float32)\n",
        "seno_fibbonacci = torch.sin(fibbonacci)\n",
        "print(\"Original:\\n\", fibbonacci, \"\\nAplicado o seno:\\n\", seno_fibbonacci)\n",
        "\n",
        "#Funções com \"_\" no final mudam o valor DA VARIÁVEL\n",
        "seno_fibbonacci = torch.sin_(fibbonacci)\n",
        "print(\"Original:\\n\", fibbonacci, \"\\nAplicado o seno:\\n\", seno_fibbonacci)"
      ],
      "metadata": {
        "colab": {
          "base_uri": "https://localhost:8080/"
        },
        "id": "KJcPZN_je1qv",
        "outputId": "aa209a43-c04c-4c59-851a-62e2f7bc65bc"
      },
      "execution_count": 7,
      "outputs": [
        {
          "output_type": "stream",
          "name": "stdout",
          "text": [
            "Original:\n",
            " tensor([ 0.,  1.,  1.,  2.,  3.,  5.,  8., 13.]) \n",
            "Aplicado o seno:\n",
            " tensor([ 0.0000,  0.8415,  0.8415,  0.9093,  0.1411, -0.9589,  0.9894,  0.4202])\n",
            "Original:\n",
            " tensor([ 0.0000,  0.8415,  0.8415,  0.9093,  0.1411, -0.9589,  0.9894,  0.4202]) \n",
            "Aplicado o seno:\n",
            " tensor([ 0.0000,  0.8415,  0.8415,  0.9093,  0.1411, -0.9589,  0.9894,  0.4202])\n"
          ]
        }
      ]
    },
    {
      "cell_type": "code",
      "source": [
        "#Quando igualamos a = b, temos que b SOFRE todas as alterações que a sofrer\n",
        "zeros = torch.zeros(3, 2, dtype=torch.int32)\n",
        "copiador = zeros\n",
        "\n",
        "zeros[0][0] = 30\n",
        "\n",
        "print(\"Original\\n\", zeros, \"\\nCopiador:\\n\", copiador)\n",
        "print(sep)\n",
        "print(\"Com clone\")\n",
        "copiador = zeros.clone()\n",
        "zeros[0][1] = 20\n",
        "print(\"Original\\n\", zeros, \"\\nCopiador:\\n\", copiador)\n",
        "\n"
      ],
      "metadata": {
        "colab": {
          "base_uri": "https://localhost:8080/"
        },
        "id": "qQ7I81Hsgv_1",
        "outputId": "085971ab-b9cc-4677-8675-9e8738858ccb"
      },
      "execution_count": 8,
      "outputs": [
        {
          "output_type": "stream",
          "name": "stdout",
          "text": [
            "Original\n",
            " tensor([[30,  0],\n",
            "        [ 0,  0],\n",
            "        [ 0,  0]], dtype=torch.int32) \n",
            "Copiador:\n",
            " tensor([[30,  0],\n",
            "        [ 0,  0],\n",
            "        [ 0,  0]], dtype=torch.int32)\n",
            "--------------------------------------------------\n",
            "\n",
            "Com clone\n",
            "Original\n",
            " tensor([[30, 20],\n",
            "        [ 0,  0],\n",
            "        [ 0,  0]], dtype=torch.int32) \n",
            "Copiador:\n",
            " tensor([[30,  0],\n",
            "        [ 0,  0],\n",
            "        [ 0,  0]], dtype=torch.int32)\n"
          ]
        }
      ]
    },
    {
      "cell_type": "markdown",
      "source": [
        "**Mandando para a GPU**"
      ],
      "metadata": {
        "id": "T5vatsXDiUVj"
      }
    },
    {
      "cell_type": "code",
      "source": [
        "if torch.cuda.is_available():\n",
        "  print(\"Parabens, você tem uma GPU\")\n",
        "  imagem_otavio_o_gato = torch.rand((3, 100, 100), device = \"cuda\")\n",
        "else:\n",
        "  print(\"Desculpa, você tá pobre\")\n",
        "  imagem_otavio_o_gato = torch.rand((3, 100, 100), device = \"cpu\")\n"
      ],
      "metadata": {
        "colab": {
          "base_uri": "https://localhost:8080/"
        },
        "id": "dqDc1O3nihv5",
        "outputId": "3f30ab24-734d-46f6-d74e-aee1f0c9ef39"
      },
      "execution_count": 9,
      "outputs": [
        {
          "output_type": "stream",
          "name": "stdout",
          "text": [
            "Desculpa, você tá pobre\n"
          ]
        }
      ]
    },
    {
      "cell_type": "code",
      "source": [
        "#Maneira análoga a fazer oq tem em cima, mais concisa\n",
        "if torch.cuda.is_available():\n",
        "  my_device = \"cuda\"\n",
        "else:\n",
        "  my_device = \"cpu\"\n",
        "print(f\"Device: {my_device}\")\n",
        "imagem_otavio_o_gato = torch.rand((3, 100, 100), device = my_device)\n",
        "#obs -> Tensores precisam estar na mesma unidade de processamento para interagirem"
      ],
      "metadata": {
        "colab": {
          "base_uri": "https://localhost:8080/"
        },
        "id": "ne5gIVc8jl7Z",
        "outputId": "eacc2a6f-dd6a-4953-f835-79626c9375e8"
      },
      "execution_count": 10,
      "outputs": [
        {
          "output_type": "stream",
          "name": "stdout",
          "text": [
            "Device: cpu\n"
          ]
        }
      ]
    },
    {
      "cell_type": "code",
      "source": [
        "#Mandar um tensor, já inicializado, para o device\n",
        "imagem_otavio_o_gato = imagem_otavio_o_gato.to(my_device)"
      ],
      "metadata": {
        "id": "EcJmQ6eykIWD"
      },
      "execution_count": 11,
      "outputs": []
    },
    {
      "cell_type": "markdown",
      "source": [
        "**Mudando o shape**"
      ],
      "metadata": {
        "id": "5mRhoAT4SCSp"
      }
    },
    {
      "cell_type": "code",
      "source": [
        "print(\"Antes do unsqueeze:\")\n",
        "tensor_aleatorio = torch.rand((3, 2, 4))\n",
        "print(tensor_aleatorio.shape)\n",
        "#Tensores são abstrações para vetores de 3 ou mais dimensões, ou seja... vetores de matrizes\n",
        "#Porém, o \"tensor aleatorio\" é apenas uma matriz com três canais, queremos um vetor de imagens\n",
        "\n",
        "#Insere uma nova dimensão na dimensão \"0\"\n",
        "tensor_aleatorio.unsqueeze_(0)\n",
        "print(\"Depois do unsqueeze:\")\n",
        "print(tensor_aleatorio.shape)"
      ],
      "metadata": {
        "colab": {
          "base_uri": "https://localhost:8080/"
        },
        "id": "2gu3svF6SCBl",
        "outputId": "885fe734-73b8-4538-ed7b-4f4c5e6eae6d"
      },
      "execution_count": 12,
      "outputs": [
        {
          "output_type": "stream",
          "name": "stdout",
          "text": [
            "Antes do unsqueeze:\n",
            "torch.Size([3, 2, 4])\n",
            "Depois do unsqueeze:\n",
            "torch.Size([1, 3, 2, 4])\n"
          ]
        }
      ]
    },
    {
      "cell_type": "code",
      "source": [
        "torch.manual_seed(10)\n",
        "a = torch.rand((1,2, 1, 2))\n",
        "\n",
        "#O vetor tem duas dimensões com tamanho \"1\", o método squeeze simplifica esses vetores\n",
        "# (1, 2, 1,2) -> (2, 2)\n",
        "#Fazendo uma comparação com uma imagem em tons de cinza...\n",
        "#Se usamos squeeze, a imagem deixa de ser um \"Canal\" e vira uma matriz\n",
        "\n",
        "print(\"Antes do squeeze:\")\n",
        "print(a.shape)\n",
        "\n",
        "a.squeeze_()\n",
        "print(\"Depois do squeeze:\")\n",
        "print(a.shape)"
      ],
      "metadata": {
        "colab": {
          "base_uri": "https://localhost:8080/"
        },
        "id": "v88txth1TJrE",
        "outputId": "9a6a01a8-7614-47ca-e706-9e0b3812f779"
      },
      "execution_count": 13,
      "outputs": [
        {
          "output_type": "stream",
          "name": "stdout",
          "text": [
            "Antes do squeeze:\n",
            "torch.Size([1, 2, 1, 2])\n",
            "Depois do squeeze:\n",
            "torch.Size([2, 2])\n"
          ]
        }
      ]
    },
    {
      "cell_type": "markdown",
      "source": [
        "**Gerando um tensor apartir de um array numpy**"
      ],
      "metadata": {
        "id": "3nXbVjqfVRHQ"
      }
    },
    {
      "cell_type": "code",
      "source": [
        "x = np.array([1, 2, 3, 4], dtype = np.int32)\n",
        "y = torch.from_numpy(x)\n",
        "\n",
        "print(\"Numpy Array:\\n\", x)\n",
        "print(\"Tensor:\\n\", y)\n"
      ],
      "metadata": {
        "colab": {
          "base_uri": "https://localhost:8080/"
        },
        "id": "k2jPdm0UVKag",
        "outputId": "bf228f32-2453-4b71-baa7-5c3fd2d7b469"
      },
      "execution_count": 14,
      "outputs": [
        {
          "output_type": "stream",
          "name": "stdout",
          "text": [
            "Numpy Array:\n",
            " [1 2 3 4]\n",
            "Tensor:\n",
            " tensor([1, 2, 3, 4], dtype=torch.int32)\n"
          ]
        }
      ]
    },
    {
      "cell_type": "markdown",
      "source": [
        "## Auto-grad\n"
      ],
      "metadata": {
        "id": "WzXu6nQc_bEP"
      }
    },
    {
      "cell_type": "markdown",
      "source": [
        "Requires grad"
      ],
      "metadata": {
        "id": "SWoTEW9IqVMM"
      }
    },
    {
      "cell_type": "code",
      "source": [
        "#Guardar operações realizadas no tensor\n",
        "a = torch.linspace(0, 2, steps = 20, dtype = torch.float32, requires_grad = True)\n",
        "b = torch.ceil(a)\n",
        "\n",
        "plt.plot(a.detach(), b.detach())"
      ],
      "metadata": {
        "colab": {
          "base_uri": "https://localhost:8080/",
          "height": 447
        },
        "id": "2KAUouhgQqEC",
        "outputId": "28937e32-83b0-403a-c7c2-b171779da6f5"
      },
      "execution_count": 137,
      "outputs": [
        {
          "output_type": "execute_result",
          "data": {
            "text/plain": [
              "[<matplotlib.lines.Line2D at 0x7c8caf58ae90>]"
            ]
          },
          "metadata": {},
          "execution_count": 137
        },
        {
          "output_type": "display_data",
          "data": {
            "text/plain": [
              "<Figure size 640x480 with 1 Axes>"
            ],
            "image/png": "[encoded data removed]"
          },
          "metadata": {}
        }
      ]
    },
    {
      "cell_type": "markdown",
      "source": [
        "Regra da cadeia\n"
      ],
      "metadata": {
        "id": "tvay7qryqX6t"
      }
    },
    {
      "cell_type": "code",
      "source": [
        "#Perceba que o gradiente está sendo computado\n",
        "print(b.grad_fn)\n",
        "c = torch.sin(b)\n",
        "print(c.grad_fn)\n",
        "d = torch.cos(c)\n",
        "print(d.grad_fn)\n",
        "#Facilita a regra da cadeia!!!"
      ],
      "metadata": {
        "colab": {
          "base_uri": "https://localhost:8080/"
        },
        "id": "yvO_XDbbZHl7",
        "outputId": "918b0a75-7a29-4430-b9f6-2100a031173d"
      },
      "execution_count": 138,
      "outputs": [
        {
          "output_type": "stream",
          "name": "stdout",
          "text": [
            "<CeilBackward0 object at 0x7c8cb2c875b0>\n",
            "<SinBackward0 object at 0x7c8cb2c875b0>\n",
            "<CosBackward0 object at 0x7c8cb2c875b0>\n"
          ]
        }
      ]
    },
    {
      "cell_type": "code",
      "source": [
        "print(\"Gradientes armazenados em caeda nivel de aplicação da funcao\")\n",
        "print(\"D:\")\n",
        "print(d.grad_fn)\n",
        "print(d.grad_fn.next_functions)\n",
        "print(d.grad_fn.next_functions[0][0].next_functions)\n",
        "print(d.grad_fn.next_functions[0][0].next_functions[0][0].next_functions)\n",
        "print(d.grad_fn.next_functions[0][0].next_functions[0][0].next_functions[0][0].next_functions)\n",
        "\n",
        "\n"
      ],
      "metadata": {
        "colab": {
          "base_uri": "https://localhost:8080/"
        },
        "id": "T1_-ZnlEbZ1w",
        "outputId": "405091b7-0b08-4b0a-f4b2-1c063a485fe4"
      },
      "execution_count": 139,
      "outputs": [
        {
          "output_type": "stream",
          "name": "stdout",
          "text": [
            "Gradientes armazenados em caeda nivel de aplicação da funcao\n",
            "D:\n",
            "<CosBackward0 object at 0x7c8cb2c875e0>\n",
            "((<SinBackward0 object at 0x7c8cb2c86da0>, 0),)\n",
            "((<CeilBackward0 object at 0x7c8cb2c875e0>, 0),)\n",
            "((<AccumulateGrad object at 0x7c8cb2c870a0>, 0),)\n",
            "()\n"
          ]
        }
      ]
    },
    {
      "cell_type": "markdown",
      "source": [
        "Calcular o gradiente"
      ],
      "metadata": {
        "id": "X37TpxbzqaNu"
      }
    },
    {
      "cell_type": "code",
      "source": [
        "#Beleza e a aplicação da regra da cadeia, onde que ocorre?\n",
        "saida = d.sum()\n",
        "print(saida)\n",
        "#BACKWARD! Calcula o gradiente em si\n",
        "saida.backward()\n",
        "print(a.grad)"
      ],
      "metadata": {
        "colab": {
          "base_uri": "https://localhost:8080/"
        },
        "id": "oNxSaml8a-0J",
        "outputId": "f01855b2-447d-4493-ccff-f4a6d43b5e4e"
      },
      "execution_count": 140,
      "outputs": [
        {
          "output_type": "stream",
          "name": "stdout",
          "text": [
            "tensor(13.1403, grad_fn=<SumBackward0>)\n",
            "tensor([0., 0., 0., 0., 0., 0., 0., 0., 0., 0., 0., 0., 0., 0., 0., 0., 0., 0., 0., 0.])\n"
          ]
        }
      ]
    },
    {
      "cell_type": "code",
      "source": [
        "#O gradiente é calculado apenas para o input do modelo, no caso, o tensor \"a\"\n",
        "print(a.grad)\n",
        "print(b.grad)\n",
        "print(c.grad)\n",
        "print(d.grad)\n"
      ],
      "metadata": {
        "colab": {
          "base_uri": "https://localhost:8080/"
        },
        "id": "Gy_HrEk2cuKO",
        "outputId": "a5016d93-cef4-4249-f97c-65c4867c139d"
      },
      "execution_count": 141,
      "outputs": [
        {
          "output_type": "stream",
          "name": "stdout",
          "text": [
            "tensor([0., 0., 0., 0., 0., 0., 0., 0., 0., 0., 0., 0., 0., 0., 0., 0., 0., 0., 0., 0.])\n",
            "None\n",
            "None\n",
            "None\n"
          ]
        },
        {
          "output_type": "stream",
          "name": "stderr",
          "text": [
            "<ipython-input-141-5132a9b8bd22>:3: UserWarning: The .grad attribute of a Tensor that is not a leaf Tensor is being accessed. Its .grad attribute won't be populated during autograd.backward(). If you indeed want the .grad field to be populated for a non-leaf Tensor, use .retain_grad() on the non-leaf Tensor. If you access the non-leaf Tensor by mistake, make sure you access the leaf Tensor instead. See github.com/pytorch/pytorch/pull/30531 for more informations. (Triggered internally at aten/src/ATen/core/TensorBody.h:489.)\n",
            "  print(b.grad)\n",
            "<ipython-input-141-5132a9b8bd22>:4: UserWarning: The .grad attribute of a Tensor that is not a leaf Tensor is being accessed. Its .grad attribute won't be populated during autograd.backward(). If you indeed want the .grad field to be populated for a non-leaf Tensor, use .retain_grad() on the non-leaf Tensor. If you access the non-leaf Tensor by mistake, make sure you access the leaf Tensor instead. See github.com/pytorch/pytorch/pull/30531 for more informations. (Triggered internally at aten/src/ATen/core/TensorBody.h:489.)\n",
            "  print(c.grad)\n",
            "<ipython-input-141-5132a9b8bd22>:5: UserWarning: The .grad attribute of a Tensor that is not a leaf Tensor is being accessed. Its .grad attribute won't be populated during autograd.backward(). If you indeed want the .grad field to be populated for a non-leaf Tensor, use .retain_grad() on the non-leaf Tensor. If you access the non-leaf Tensor by mistake, make sure you access the leaf Tensor instead. See github.com/pytorch/pytorch/pull/30531 for more informations. (Triggered internally at aten/src/ATen/core/TensorBody.h:489.)\n",
            "  print(d.grad)\n"
          ]
        }
      ]
    },
    {
      "cell_type": "markdown",
      "source": [
        "Exemplo com um modelo"
      ],
      "metadata": {
        "id": "VkwI3gblqeHv"
      }
    },
    {
      "cell_type": "code",
      "source": [
        "BATCH_SIZE = 16\n",
        "DIM_IN = 1000\n",
        "HIDDEN_SIZE = 100\n",
        "DIM_OUT = 10\n",
        "\n",
        "class TinyModel(torch.nn.Module):\n",
        "\n",
        "    def __init__(self):\n",
        "        super(TinyModel, self).__init__()\n",
        "\n",
        "        # Entrada de mil, saida de 100, as funções de implementação de camadas já tem\n",
        "        # autograd embutido!loss\n",
        "        self.layer1 = torch.nn.Linear(1000, 100)\n",
        "        self.relu = torch.nn.ReLU()\n",
        "\n",
        "        #Entrada de 100, saida de 10\n",
        "        self.layer2 = torch.nn.Linear(100, 10)\n",
        "\n",
        "    def forward(self, x):\n",
        "        x = self.layer1(x)\n",
        "        x = self.relu(x)\n",
        "        x = self.layer2(x)\n",
        "        return x\n",
        "\n",
        "entrada = torch.randn(BATCH_SIZE, DIM_IN, requires_grad=False)\n",
        "saida_ideal = torch.randn(BATCH_SIZE, DIM_OUT, requires_grad=False)\n",
        "\n",
        "model = TinyModel()"
      ],
      "metadata": {
        "id": "HVe_ICatdCCm"
      },
      "execution_count": 142,
      "outputs": []
    },
    {
      "cell_type": "code",
      "source": [
        "#Perceba que nas proprias camadas já temos o gradiente\n",
        "print(model.layer1.weight[0][0:10])\n"
      ],
      "metadata": {
        "colab": {
          "base_uri": "https://localhost:8080/"
        },
        "id": "Q3a1lbewqUCT",
        "outputId": "da27ef24-f41e-448c-ecd2-ee1ef5023b71"
      },
      "execution_count": 143,
      "outputs": [
        {
          "output_type": "stream",
          "name": "stdout",
          "text": [
            "tensor([-0.0069, -0.0020,  0.0273, -0.0162, -0.0050, -0.0081, -0.0146, -0.0300,\n",
            "         0.0195,  0.0130], grad_fn=<SliceBackward0>)\n"
          ]
        }
      ]
    },
    {
      "cell_type": "code",
      "source": [
        "otimizador = torch.optim.SGD(model.parameters(), lr = 0.001)\n",
        "\n",
        "saida = model.forward(entrada)\n",
        "\n",
        "loss = torch.sqrt((saida_ideal - saida).pow(2).sum())\n",
        "\n",
        "#A loss tem um gradiente também, pelo fato da saida ter\n",
        "print(loss)"
      ],
      "metadata": {
        "colab": {
          "base_uri": "https://localhost:8080/"
        },
        "id": "ZIq2lz2QsapP",
        "outputId": "3c35b66f-5a10-45f4-dbb2-6d398b880cce"
      },
      "execution_count": 144,
      "outputs": [
        {
          "output_type": "stream",
          "name": "stdout",
          "text": [
            "tensor(12.0165, grad_fn=<SqrtBackward0>)\n"
          ]
        }
      ]
    },
    {
      "cell_type": "code",
      "source": [
        "#Agora que temos a forma dos gradientes setados e a função de perda, iremos realizar o CÁLCULO dessas correções do gradiente\n",
        "#Depois desse passo, TODAS camadas terão um .grad, pois ela não apenas referenciam um \"método\" para cálculo e sim obtem valores\n",
        "#Para ajustar os pesos do modelo\n",
        "loss.backward()\n"
      ],
      "metadata": {
        "id": "D6vJz2DMt3g0"
      },
      "execution_count": 145,
      "outputs": []
    },
    {
      "cell_type": "code",
      "source": [
        "parametros = model.layer1.weight.grad\n",
        "print(parametros)"
      ],
      "metadata": {
        "colab": {
          "base_uri": "https://localhost:8080/"
        },
        "id": "V336212vuOlY",
        "outputId": "04de28f1-ce66-4366-eb6c-b3e8b00adda0"
      },
      "execution_count": 147,
      "outputs": [
        {
          "output_type": "stream",
          "name": "stdout",
          "text": [
            "tensor([[-0.0258,  0.0226, -0.0136,  ..., -0.0556,  0.0139,  0.0323],\n",
            "        [ 0.0200, -0.0287, -0.0049,  ..., -0.0516,  0.0748,  0.1140],\n",
            "        [ 0.0038, -0.0938,  0.0181,  ..., -0.0412, -0.0092,  0.0075],\n",
            "        ...,\n",
            "        [ 0.0622,  0.0089, -0.0505,  ..., -0.0172, -0.0218,  0.0089],\n",
            "        [-0.0017, -0.0036,  0.0102,  ..., -0.0159,  0.0082, -0.0201],\n",
            "        [ 0.0127, -0.0183, -0.0078,  ...,  0.0093,  0.0218, -0.0110]])\n"
          ]
        }
      ]
    },
    {
      "cell_type": "code",
      "source": [
        "#Nesse ponto, os pesos não foram alterados, quem faz esse papel é o otimizador\n",
        "otimizador.step()\n",
        "\n",
        "#Etapa muito importante, pois o modelo precisa de um novo gradiente a cada entrada, se\n",
        "# o gradiente NÃO FOR zerado, ira somar os valores antigos com os novos ...\n",
        "otimizador.zero_grad()"
      ],
      "metadata": {
        "id": "Y99Cz6cJuh0u"
      },
      "execution_count": 136,
      "outputs": []
    },
    {
      "cell_type": "code",
      "source": [
        "tensor_gradiente = torch.linspace(0, 2, 50, requires_grad = True)\n",
        "print(tensor_gradiente)\n",
        "\n",
        "#Criar CÓPIA SEM gradiente\n",
        "tensor_sem_gradiente = tensor_gradiente.detach()\n",
        "print(tensor_sem_gradiente)\n"
      ],
      "metadata": {
        "colab": {
          "base_uri": "https://localhost:8080/"
        },
        "id": "tNu9vvCdw-Oh",
        "outputId": "78100bb7-9c67-4cac-b632-300d91e6037b"
      },
      "execution_count": 152,
      "outputs": [
        {
          "output_type": "stream",
          "name": "stdout",
          "text": [
            "tensor([0.0000, 0.0408, 0.0816, 0.1224, 0.1633, 0.2041, 0.2449, 0.2857, 0.3265,\n",
            "        0.3673, 0.4082, 0.4490, 0.4898, 0.5306, 0.5714, 0.6122, 0.6531, 0.6939,\n",
            "        0.7347, 0.7755, 0.8163, 0.8571, 0.8980, 0.9388, 0.9796, 1.0204, 1.0612,\n",
            "        1.1020, 1.1429, 1.1837, 1.2245, 1.2653, 1.3061, 1.3469, 1.3878, 1.4286,\n",
            "        1.4694, 1.5102, 1.5510, 1.5918, 1.6327, 1.6735, 1.7143, 1.7551, 1.7959,\n",
            "        1.8367, 1.8776, 1.9184, 1.9592, 2.0000], requires_grad=True)\n",
            "tensor([0.0000, 0.0408, 0.0816, 0.1224, 0.1633, 0.2041, 0.2449, 0.2857, 0.3265,\n",
            "        0.3673, 0.4082, 0.4490, 0.4898, 0.5306, 0.5714, 0.6122, 0.6531, 0.6939,\n",
            "        0.7347, 0.7755, 0.8163, 0.8571, 0.8980, 0.9388, 0.9796, 1.0204, 1.0612,\n",
            "        1.1020, 1.1429, 1.1837, 1.2245, 1.2653, 1.3061, 1.3469, 1.3878, 1.4286,\n",
            "        1.4694, 1.5102, 1.5510, 1.5918, 1.6327, 1.6735, 1.7143, 1.7551, 1.7959,\n",
            "        1.8367, 1.8776, 1.9184, 1.9592, 2.0000])\n"
          ]
        }
      ]
    },
    {
      "cell_type": "markdown",
      "source": [
        "## Criando modelos"
      ],
      "metadata": {
        "id": "NCnDoDMsyDlP"
      }
    },
    {
      "cell_type": "code",
      "source": [],
      "metadata": {
        "id": "lK4iMz7TyFxU"
      },
      "execution_count": null,
      "outputs": []
    },
    {
      "cell_type": "markdown",
      "source": [],
      "metadata": {
        "id": "MGAJRAFBzik0"
      }
    },
    {
      "cell_type": "markdown",
      "source": [
        "## AlexNet"
      ],
      "metadata": {
        "id": "b7QJzYSq1vf_"
      }
    },
    {
      "cell_type": "code",
      "source": [
        "class LeNet(nn.Module):\n",
        "  def __init__(self):\n",
        "    super(LeNet, self).__init__()\n",
        "    #Estrutura da lenet, sem os polimentos\n",
        "    #Imagem preto e branco (input) -> 6 Canais como mapas de caracteristicas\n",
        "    self.c1 = nn.Conv2d(1, 6, 3)\n",
        "    self.c2 = nn.Conv2d(6, 16, 3)\n",
        "    self.l1 = nn.Linear(16*6*6, 120)\n",
        "    self.l2 = nn.Linear(120, 84)\n",
        "    self.l3 = nn.Linear(84, 10)\n",
        "\n",
        "  def forward(self, x):\n",
        "    #Duas camadas iguais de max_pool, porém se for um pool quadrádico n precisa especificar o shape\n",
        "    x = F.max_pool2d(F.relu(self.c1(x)), (2,2))\n",
        "    x = F.max_pool2d(F.relu(self.c2(x)), 2)\n",
        "    #Agora para dar input na camada linear precisamos linearizar a saida da conv2\n",
        "    x = x.view(-1, self.number_neurons(x))\n",
        "    x = F.relu(self.l1(x))\n",
        "    x = F.relu(self.l2(x))\n",
        "    x = self.l3(x)\n",
        "    return x\n",
        "\n",
        "  def number_neurons(self, x):\n",
        "    size = x.size()[1:] #Ignora a primeira dimensão, que é o tamanho do batch\n",
        "    features = 1\n",
        "    for s in size:\n",
        "      features = features * s\n",
        "    return features\n",
        "\n",
        "model = LeNet()\n",
        "input = torch.rand(1, 1, 32, 32)\n",
        "print('\\nImage batch shape:')\n",
        "print(input.shape)\n",
        "print(f\"\\noutput do modelo:\\n{model.forward(input)}\")\n",
        "\n",
        "#Tensores consideram que você está trabalhando com várias imagens, por isso o tipo fica\n",
        "# \"(Num_imagens, Canais_cor, Altura, Largura)\""
      ],
      "metadata": {
        "id": "lmppCKklfsf-",
        "colab": {
          "base_uri": "https://localhost:8080/"
        },
        "outputId": "f0da2b2b-3140-4c5d-cac0-270dfefb87dd"
      },
      "execution_count": null,
      "outputs": [
        {
          "output_type": "stream",
          "name": "stdout",
          "text": [
            "\n",
            "Image batch shape:\n",
            "torch.Size([1, 1, 32, 32])\n",
            "\n",
            "output do modelo:\n",
            "tensor([[ 0.0187, -0.0842,  0.1202, -0.1204, -0.0097,  0.0857, -0.1104, -0.0824,\n",
            "          0.0128, -0.0730]], grad_fn=<AddmmBackward0>)\n"
          ]
        }
      ]
    },
    {
      "cell_type": "markdown",
      "source": [
        "### Setting Dataset"
      ],
      "metadata": {
        "id": "TwsPuyrs-mTR"
      }
    },
    {
      "cell_type": "code",
      "source": [
        "transformation = transform.Compose([transform.ToTensor(), transform.Normalize(mean = (0.5, 0.5, 0.5), std = (0.5, 0.5, 0.5)), transform.Grayscale(num_output_channels = 1)]) # Normalize((Media_cada_canal_cor), (Desvio_padrao_cada_canal_cor))\n",
        "#Adaptação das imagens para tensores e posteriormente normalizando os valores da matriz pois o gradiente funciona melhor com valores próximos de 0"
      ],
      "metadata": {
        "id": "udgcU1Hz9uND"
      },
      "execution_count": null,
      "outputs": []
    },
    {
      "cell_type": "code",
      "source": [
        "dataset = torchvision.datasets.CIFAR10(root = \"./dataset\", train = True, transform = transformation, download=True)\n",
        "#root -> Diretório onde será escrito o dataset\n",
        "#Train -> Dados serão usados para treinamento e teste\n",
        "#Transform -> Aplica a todo o dataset quando da load"
      ],
      "metadata": {
        "colab": {
          "base_uri": "https://localhost:8080/"
        },
        "id": "Vg5ZwSrf-5Zn",
        "outputId": "d6a4907b-fa8c-48fb-f866-8e08fdada2e8"
      },
      "execution_count": null,
      "outputs": [
        {
          "output_type": "stream",
          "name": "stdout",
          "text": [
            "Downloading https://www.cs.toronto.edu/~kriz/cifar-10-python.tar.gz to ./dataset/cifar-10-python.tar.gz\n"
          ]
        },
        {
          "output_type": "stream",
          "name": "stderr",
          "text": [
            "100%|██████████| 170M/170M [00:02<00:00, 77.4MB/s]\n"
          ]
        },
        {
          "output_type": "stream",
          "name": "stdout",
          "text": [
            "Extracting ./dataset/cifar-10-python.tar.gz to ./dataset\n"
          ]
        }
      ]
    },
    {
      "cell_type": "code",
      "source": [
        "dataloader = torch.utils.data.DataLoader(dataset, batch_size = 4, shuffle = True, num_workers = 2)\n",
        "#O data loader não sabe nada sobre as informações, apenas separa os batches."
      ],
      "metadata": {
        "id": "n3FvMYP6AJnK"
      },
      "execution_count": null,
      "outputs": []
    },
    {
      "cell_type": "code",
      "source": [
        "\n",
        "for i, (imagens,classes) in enumerate(dataloader):\n",
        "  print(\"Imagens do batch especificado (4 por vez)\")\n",
        "  print(f\"shape: {imagens.shape}\\n\")\n",
        "\n",
        "  print(\"Classes das 4 imagens fornecidas:\")\n",
        "  print(f\"{classes}\")\n",
        "  break"
      ],
      "metadata": {
        "colab": {
          "base_uri": "https://localhost:8080/"
        },
        "id": "jRNahSaypM12",
        "outputId": "e8a52651-5007-4385-96c8-ce7cbde3b05a"
      },
      "execution_count": null,
      "outputs": [
        {
          "output_type": "stream",
          "name": "stdout",
          "text": [
            "Imagens do batch especificado (4 por vez)\n",
            "shape: torch.Size([4, 1, 32, 32])\n",
            "\n",
            "Classes das 4 imagens fornecidas:\n",
            "tensor([1, 6, 9, 3])\n"
          ]
        }
      ]
    },
    {
      "cell_type": "code",
      "source": [
        "\n",
        "classes = {\n",
        "    0: 'plane',\n",
        "    1: 'car',\n",
        "    2: 'bird',\n",
        "    3: 'cat',\n",
        "    4: 'deer',\n",
        "    5: 'dog',\n",
        "    6: 'frog',\n",
        "    7: 'horse',\n",
        "    8: 'ship',\n",
        "    9: 'truck'\n",
        "    }\n",
        "\n",
        "def imshow(img):\n",
        "    img = img / 2 + 0.5     # unnormalize\n",
        "    npimg = img.numpy()\n",
        "    plt.imshow(np.transpose(npimg, (1, 2, 0)))\n",
        "\n",
        "def random_sampling(loader, num_amostras):\n",
        "  size = len(loader)\n",
        "\n",
        "  for i in range(num_amostras):\n",
        "    idx = np.random.randint(0, size-1)\n",
        "    imagem, label = loader[idx]\n",
        "    imagem = torch.reshape(imagem, (32, 32, 1))\n",
        "    plt.title(classes[label])\n",
        "    plt.imshow(imagem, cmap='gray')\n",
        "\n",
        "random_sampling(dataset, 1)"
      ],
      "metadata": {
        "colab": {
          "base_uri": "https://localhost:8080/"
        },
        "id": "MEBk4QhcoSat",
        "outputId": "0f251a6d-fb0e-41c6-eed4-e9a7ecca0e69"
      },
      "execution_count": null,
      "outputs": [
        {
          "output_type": "display_data",
          "data": {
            "text/plain": [
              "<Figure size 640x480 with 1 Axes>"
            ],
            "image/png": "[encoded data removed]"
          },
          "metadata": {}
        }
      ]
    }
  ]
}